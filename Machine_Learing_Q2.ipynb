{
  "nbformat": 4,
  "nbformat_minor": 0,
  "metadata": {
    "colab": {
      "provenance": [],
      "authorship_tag": "ABX9TyM5/imGWaod7N/qbrlZRfNF",
      "include_colab_link": true
    },
    "kernelspec": {
      "name": "python3",
      "display_name": "Python 3"
    },
    "language_info": {
      "name": "python"
    }
  },
  "cells": [
    {
      "cell_type": "markdown",
      "metadata": {
        "id": "view-in-github",
        "colab_type": "text"
      },
      "source": [
        "<a href=\"https://colab.research.google.com/github/Vinayak2183/Machine-learning/blob/main/Machine_Learing_Q2.ipynb\" target=\"_parent\"><img src=\"https://colab.research.google.com/assets/colab-badge.svg\" alt=\"Open In Colab\"/></a>"
      ]
    },
    {
      "cell_type": "code",
      "execution_count": 1,
      "metadata": {
        "id": "svGctXVpJWCA"
      },
      "outputs": [],
      "source": [
        "import pandas as pd\n",
        "import numpy as np"
      ]
    },
    {
      "cell_type": "code",
      "source": [
        "df=pd.read_csv(\"/content/ML_study_jam.csv\")\n",
        "df1 = df.dropna()\n",
        "print(df1.head(15))"
      ],
      "metadata": {
        "colab": {
          "base_uri": "https://localhost:8080/"
        },
        "id": "ds6U6QmlJ1-7",
        "outputId": "f1f43ab8-a668-42e4-be32-4c5dd8553fea"
      },
      "execution_count": 7,
      "outputs": [
        {
          "output_type": "stream",
          "name": "stdout",
          "text": [
            "    Store ID   Store_Area  Items_Available  Daily_Customer_Count  Store_Sales\n",
            "0         1.0      1659.0           1961.0                 530.0      66490.0\n",
            "1         2.0      1461.0           1752.0                 210.0      39820.0\n",
            "2         3.0      1340.0           1609.0                 720.0      54010.0\n",
            "3         4.0      1451.0           1748.0                 620.0      53730.0\n",
            "4         5.0      1770.0           2111.0                 450.0      46620.0\n",
            "5         6.0      1442.0           1733.0                 760.0      45260.0\n",
            "6         7.0      1542.0           1858.0                1030.0      72240.0\n",
            "7         8.0      1261.0           1507.0                1020.0      37720.0\n",
            "8         9.0      1090.0           1321.0                 680.0      46310.0\n",
            "9        10.0      1030.0           1235.0                1130.0      44150.0\n",
            "12       13.0      1746.0           2064.0                1050.0      60470.0\n",
            "13       14.0      1615.0           1931.0                1160.0      59130.0\n",
            "14       15.0      1469.0           1756.0                 770.0      66360.0\n",
            "15       16.0      1644.0           1950.0                 790.0      78870.0\n",
            "16       17.0      1578.0           1907.0                1440.0      77250.0\n"
          ]
        }
      ]
    },
    {
      "cell_type": "code",
      "source": [
        "df2=pd.read_csv(\"/content/ML_study_jam.csv\")\n",
        "x = df2[\"Store_Sales\"].mean()\n",
        "df2[\"Store_Sales\"].fillna(x, inplace=True)\n",
        "print(df2.head(15))"
      ],
      "metadata": {
        "colab": {
          "base_uri": "https://localhost:8080/"
        },
        "id": "QgNTYrDCLd1V",
        "outputId": "490e1dc6-7dd0-4beb-9bc4-e071d271f2fd"
      },
      "execution_count": 12,
      "outputs": [
        {
          "output_type": "stream",
          "name": "stdout",
          "text": [
            "    Store ID   Store_Area  Items_Available  Daily_Customer_Count   Store_Sales\n",
            "0         1.0      1659.0           1961.0                 530.0  66490.000000\n",
            "1         2.0      1461.0           1752.0                 210.0  39820.000000\n",
            "2         3.0      1340.0           1609.0                 720.0  54010.000000\n",
            "3         4.0      1451.0           1748.0                 620.0  53730.000000\n",
            "4         5.0      1770.0           2111.0                 450.0  46620.000000\n",
            "5         6.0      1442.0           1733.0                 760.0  45260.000000\n",
            "6         7.0      1542.0           1858.0                1030.0  72240.000000\n",
            "7         8.0      1261.0           1507.0                1020.0  37720.000000\n",
            "8         9.0      1090.0           1321.0                 680.0  46310.000000\n",
            "9        10.0      1030.0           1235.0                1130.0  44150.000000\n",
            "10       11.0      1187.0           1439.0                1090.0  58223.865979\n",
            "11       12.0      1751.0              NaN                 720.0  57620.000000\n",
            "12       13.0      1746.0           2064.0                1050.0  60470.000000\n",
            "13       14.0      1615.0           1931.0                1160.0  59130.000000\n",
            "14       15.0      1469.0           1756.0                 770.0  66360.000000\n"
          ]
        }
      ]
    },
    {
      "cell_type": "code",
      "source": [
        "df3=pd.read_csv(\"/content/ML_study_jam.csv\")\n",
        "for x in df3.index:\n",
        "  if df3.loc[x, \"Items_Available\"] < 1500:\n",
        "     df3.loc[x, \"Items_Avaliable\"] = 1800\n",
        "print(df3.head(20))"
      ],
      "metadata": {
        "colab": {
          "base_uri": "https://localhost:8080/"
        },
        "id": "PZYa4pf8Mdq5",
        "outputId": "a0977ba6-8c70-4321-fcde-e11d572e0412"
      },
      "execution_count": 24,
      "outputs": [
        {
          "output_type": "stream",
          "name": "stdout",
          "text": [
            "    Store ID   Store_Area  Items_Available  Daily_Customer_Count  Store_Sales  \\\n",
            "0         1.0      1659.0           1961.0                 530.0      66490.0   \n",
            "1         2.0      1461.0           1752.0                 210.0      39820.0   \n",
            "2         3.0      1340.0           1609.0                 720.0      54010.0   \n",
            "3         4.0      1451.0           1748.0                 620.0      53730.0   \n",
            "4         5.0      1770.0           2111.0                 450.0      46620.0   \n",
            "5         6.0      1442.0           1733.0                 760.0      45260.0   \n",
            "6         7.0      1542.0           1858.0                1030.0      72240.0   \n",
            "7         8.0      1261.0           1507.0                1020.0      37720.0   \n",
            "8         9.0      1090.0           1321.0                 680.0      46310.0   \n",
            "9        10.0      1030.0           1235.0                1130.0      44150.0   \n",
            "10       11.0      1187.0           1439.0                1090.0          NaN   \n",
            "11       12.0      1751.0              NaN                 720.0      57620.0   \n",
            "12       13.0      1746.0           2064.0                1050.0      60470.0   \n",
            "13       14.0      1615.0           1931.0                1160.0      59130.0   \n",
            "14       15.0      1469.0           1756.0                 770.0      66360.0   \n",
            "15       16.0      1644.0           1950.0                 790.0      78870.0   \n",
            "16       17.0      1578.0           1907.0                1440.0      77250.0   \n",
            "17       18.0      1703.0           2045.0                   NaN      38170.0   \n",
            "18       19.0      1438.0           1731.0                1030.0      63540.0   \n",
            "19       20.0      1940.0           2340.0                 980.0      40190.0   \n",
            "\n",
            "    Items_Avaliable  \n",
            "0               NaN  \n",
            "1               NaN  \n",
            "2               NaN  \n",
            "3               NaN  \n",
            "4               NaN  \n",
            "5               NaN  \n",
            "6               NaN  \n",
            "7               NaN  \n",
            "8            1800.0  \n",
            "9            1800.0  \n",
            "10           1800.0  \n",
            "11              NaN  \n",
            "12              NaN  \n",
            "13              NaN  \n",
            "14              NaN  \n",
            "15              NaN  \n",
            "16              NaN  \n",
            "17              NaN  \n",
            "18              NaN  \n",
            "19              NaN  \n"
          ]
        }
      ]
    }
  ]
}